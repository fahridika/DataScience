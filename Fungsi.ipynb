{
  "nbformat": 4,
  "nbformat_minor": 0,
  "metadata": {
    "colab": {
      "name": "Fungsi.ipynb",
      "provenance": [],
      "authorship_tag": "ABX9TyOSzcW/p3+Kwab+oPnp8YX6",
      "include_colab_link": true
    },
    "kernelspec": {
      "name": "python3",
      "display_name": "Python 3"
    },
    "language_info": {
      "name": "python"
    }
  },
  "cells": [
    {
      "cell_type": "markdown",
      "metadata": {
        "id": "view-in-github",
        "colab_type": "text"
      },
      "source": [
        "<a href=\"https://colab.research.google.com/github/fahridika/DataScience/blob/python/Fungsi.ipynb\" target=\"_parent\"><img src=\"https://colab.research.google.com/assets/colab-badge.svg\" alt=\"Open In Colab\"/></a>"
      ]
    },
    {
      "cell_type": "markdown",
      "source": [
        "# Fungsi\n",
        "Fungsi adalah proses yang merelasikan antara sebuah masukan (input) dan keluaran (output). Pada Python, selain fungsi relasi tersebut, fungsi juga adalah salah satu cara untuk mengorganisasikan kode - dengan tujuan akhir kode dapat digunakan kembali (reusability).\n",
        "\n",
        "***syarat umum fungsi*** adalah modularisasi dan fungsionalitasnya."
      ],
      "metadata": {
        "id": "gyWgTaCYWYMj"
      }
    },
    {
      "cell_type": "code",
      "execution_count": null,
      "metadata": {
        "id": "g7yqZBhMWXaW"
      },
      "outputs": [],
      "source": [
        "#Mendefinisikan fungsi\n",
        "def nama_fungsi( parameter )"
      ]
    },
    {
      "cell_type": "markdown",
      "source": [
        "# Return\n",
        "Pernyataan return [expression] akan membuat eksekusi program keluar dari fungsi saat itu, sekaligus mengembalikan nilai tertentu.\n",
        "\n",
        "return None"
      ],
      "metadata": {
        "id": "ZVmaddmMXry9"
      }
    },
    {
      "cell_type": "code",
      "source": [
        "def kali(angka1, angka2):\n",
        "    # Kalikan kedua parameter\n",
        "    hasil = angka1 * angka2\n",
        "    print('Dicetak dari dalam fungsi: {}'.format(hasil))\n",
        "    return hasil\n",
        "kali(10,10)"
      ],
      "metadata": {
        "colab": {
          "base_uri": "https://localhost:8080/"
        },
        "id": "opxqL_5RX2a8",
        "outputId": "691a3331-61c4-40ce-b6ac-ffea0d19fbbe"
      },
      "execution_count": 2,
      "outputs": [
        {
          "output_type": "stream",
          "name": "stdout",
          "text": [
            "Dicetak dari dalam fungsi: 100\n"
          ]
        },
        {
          "output_type": "execute_result",
          "data": {
            "text/plain": [
              "100"
            ]
          },
          "metadata": {},
          "execution_count": 2
        }
      ]
    },
    {
      "cell_type": "markdown",
      "source": [
        "# Pass by reference vs value\n",
        "Seluruh parameter (argumen) pada bahasa Python bersifat “passed by reference”. Artinya saat Anda mengubah sebuah variabel, maka data yang mereferensi padanya juga akan berubah, baik di dalam fungsi, maupun di luar fungsi pemanggil. Kecuali jika anda melakukan operasi assignment yang akan mengubah reference parameter.\n",
        "\n",
        "Anda harus berhati-hati karena assignment variabel bernama sama dengan parameter, berarti membuat variabel baru dalam scope lokal dan tidak terkait dengan variabel global.\n",
        "Contohnya:"
      ],
      "metadata": {
        "id": "Z_IEtbrFebb7"
      }
    },
    {
      "cell_type": "code",
      "source": [
        "def ubah(list_saya):\n",
        "    list_saya.append([1, 2, 3, 4])\n",
        "    print('Nilai di dalam fungsi: {}'.format(list_saya))\n",
        " \n",
        "# Panggil fungsi ubah\n",
        "list_saya = [10, 20, 30]\n",
        "ubah(list_saya)\n",
        "print('Nilai di luar fungsi: {}'.format(list_saya))"
      ],
      "metadata": {
        "colab": {
          "base_uri": "https://localhost:8080/"
        },
        "id": "z-NnEemkeyKk",
        "outputId": "5b3df389-dc34-4d3a-a4c8-b3606fa13a63"
      },
      "execution_count": 3,
      "outputs": [
        {
          "output_type": "stream",
          "name": "stdout",
          "text": [
            "Nilai di dalam fungsi: [10, 20, 30, [1, 2, 3, 4]]\n",
            "Nilai di luar fungsi: [10, 20, 30, [1, 2, 3, 4]]\n"
          ]
        }
      ]
    }
  ]
}