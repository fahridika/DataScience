{
  "nbformat": 4,
  "nbformat_minor": 0,
  "metadata": {
    "colab": {
      "name": "Fungsi.ipynb",
      "provenance": [],
      "authorship_tag": "ABX9TyNRCahB+NVXilC4wjmpPj+6",
      "include_colab_link": true
    },
    "kernelspec": {
      "name": "python3",
      "display_name": "Python 3"
    },
    "language_info": {
      "name": "python"
    }
  },
  "cells": [
    {
      "cell_type": "markdown",
      "metadata": {
        "id": "view-in-github",
        "colab_type": "text"
      },
      "source": [
        "<a href=\"https://colab.research.google.com/github/fahridika/DataScience/blob/python/Fungsi.ipynb\" target=\"_parent\"><img src=\"https://colab.research.google.com/assets/colab-badge.svg\" alt=\"Open In Colab\"/></a>"
      ]
    },
    {
      "cell_type": "markdown",
      "source": [
        "# Fungsi\n",
        "Fungsi adalah proses yang merelasikan antara sebuah masukan (input) dan keluaran (output). Pada Python, selain fungsi relasi tersebut, fungsi juga adalah salah satu cara untuk mengorganisasikan kode - dengan tujuan akhir kode dapat digunakan kembali (reusability).\n",
        "\n",
        "***syarat umum fungsi*** adalah modularisasi dan fungsionalitasnya."
      ],
      "metadata": {
        "id": "gyWgTaCYWYMj"
      }
    },
    {
      "cell_type": "code",
      "execution_count": null,
      "metadata": {
        "id": "g7yqZBhMWXaW"
      },
      "outputs": [],
      "source": [
        "#Mendefinisikan fungsi\n",
        "def nama_fungsi( parameter )"
      ]
    },
    {
      "cell_type": "markdown",
      "source": [
        "# Return\n",
        "Pernyataan return [expression] akan membuat eksekusi program keluar dari fungsi saat itu, sekaligus mengembalikan nilai tertentu.\n",
        "\n",
        "return None"
      ],
      "metadata": {
        "id": "ZVmaddmMXry9"
      }
    },
    {
      "cell_type": "code",
      "source": [
        "def kali(angka1, angka2):\n",
        "    # Kalikan kedua parameter\n",
        "    hasil = angka1 * angka2\n",
        "    print('Dicetak dari dalam fungsi: {}'.format(hasil))\n",
        "    return hasil\n",
        "kali(10,10)"
      ],
      "metadata": {
        "colab": {
          "base_uri": "https://localhost:8080/"
        },
        "id": "opxqL_5RX2a8",
        "outputId": "691a3331-61c4-40ce-b6ac-ffea0d19fbbe"
      },
      "execution_count": null,
      "outputs": [
        {
          "output_type": "stream",
          "name": "stdout",
          "text": [
            "Dicetak dari dalam fungsi: 100\n"
          ]
        },
        {
          "output_type": "execute_result",
          "data": {
            "text/plain": [
              "100"
            ]
          },
          "metadata": {},
          "execution_count": 2
        }
      ]
    },
    {
      "cell_type": "markdown",
      "source": [
        "# Pass by reference vs value\n",
        "Seluruh parameter (argumen) pada bahasa Python bersifat “passed by reference”. Artinya saat Anda mengubah sebuah variabel, maka data yang mereferensi padanya juga akan berubah, baik di dalam fungsi, maupun di luar fungsi pemanggil. Kecuali jika anda melakukan operasi assignment yang akan mengubah reference parameter.\n",
        "\n",
        "Anda harus berhati-hati karena assignment variabel bernama sama dengan parameter, berarti membuat variabel baru dalam scope lokal dan tidak terkait dengan variabel global.\n",
        "Contohnya:"
      ],
      "metadata": {
        "id": "Z_IEtbrFebb7"
      }
    },
    {
      "cell_type": "code",
      "source": [
        "def ubah(list_saya):\n",
        "    list_saya.append([1, 2, 3, 4])\n",
        "    print('Nilai di dalam fungsi: {}'.format(list_saya))\n",
        " \n",
        "# Panggil fungsi ubah\n",
        "list_saya = [10, 20, 30]\n",
        "ubah(list_saya)\n",
        "print('Nilai di luar fungsi: {}'.format(list_saya))"
      ],
      "metadata": {
        "colab": {
          "base_uri": "https://localhost:8080/"
        },
        "id": "z-NnEemkeyKk",
        "outputId": "5b3df389-dc34-4d3a-a4c8-b3606fa13a63"
      },
      "execution_count": null,
      "outputs": [
        {
          "output_type": "stream",
          "name": "stdout",
          "text": [
            "Nilai di dalam fungsi: [10, 20, 30, [1, 2, 3, 4]]\n",
            "Nilai di luar fungsi: [10, 20, 30, [1, 2, 3, 4]]\n"
          ]
        }
      ]
    },
    {
      "cell_type": "markdown",
      "source": [
        "# Fungsi - Argumen dan Parameter\n",
        "Argumen yang dapat dikirimkan pada fungsi\n",
        "Sebagai nilai yang akan dimasukkan pada saat fungsi dipanggil, ada dua jenis argumen:\n",
        "\n",
        "Keyword Argument, yakni argumen yang disertai identifier atau nama parameter yang secara eksplisit disebutkan. Hal ini termasuk jika kita mengirimkan nilai melalui dictionary yang diawali dua tanda * (**). \n",
        "Positional Argument, yakni argumen selain keyword argument. Jika kita mengirimkan variabel bersifat iterable, maka harus diawali tanda *"
      ],
      "metadata": {
        "id": "oC_SvolBVJEc"
      }
    },
    {
      "cell_type": "code",
      "source": [
        "# Keyword Argument\n",
        "\n",
        "daftar(tanggal=1, bulan='Januari', tahun=2020)\n",
        "daftar(**{'tanggal': 1, 'bulan': 'Januari', 'tahun': 2020})\n",
        "\n",
        "# Positional Argument\n",
        "\n",
        "daftar(1,'Januari',2020)\n",
        "daftar(*(1, 'Januari', 2020))\n"
      ],
      "metadata": {
        "id": "T5DAkLz8VZPE"
      },
      "execution_count": null,
      "outputs": []
    },
    {
      "cell_type": "markdown",
      "source": [
        "# Susunan/Urutan Parameter Fungsi\n",
        "Terdapat 5 kemungkinan susunan/urutan parameter fungsi menurut dokumentasi Python:\n",
        "\n",
        "positional-or-keyword: Anda bisa menuliskan argumen sebagai keyword argument atau positional argument.\n",
        "\n",
        "positional-only: Anda menentukan bahwa argumen tertentu hanya dapat diletakkan di posisi tertentu. Hal ini dilakukan dengan cara mendeklarasi posisi utama kemudian diikuti tanda /. Seperti pada contoh berikut, nilai1 dan nilai2 merupakan positional only (harus diletakkan pada posisi tersebut):\n",
        "\n",
        "keyword-only: Anda menentukan bahwa argumen tertentu harus disupply dalam bentuk keyword argument. Hal ini dilakukan dengan cara mendeklarasi satu buah var-positional argument diikuti tanda *. Seperti pada contoh berikut, nilai2 dan nilai3 merupakan keyword-only (harus dikirim dengan keyword):\n",
        "\n",
        "var-positional dan var-keyword: Anda menentukan bahwa ada beberapa positional argument dan ada beberapa keyword argument yang akan Anda proses. var-positional ditandai dengan awalan * (iterable) dan var-keyword ditandai dengan awalan ** (dictionary). Contohnya dengan *args yang bersifat var-positional dan **kwargs yang berupa var-keyword.\n",
        "\n",
        "Jika ada argumen posisi dinamis dan argumen kata kunci (keyword) dinamis, maka urutannya adalah argumen posisi dahulu, baru argumen kata kunci. Contoh penggunaan var-positional dan var-keyword pada sebuah berkas python"
      ],
      "metadata": {
        "id": "odcJijGEVskz"
      }
    },
    {
      "cell_type": "code",
      "source": [
        "def printinfo(*args, **kwargs):\n",
        "    for a in args:\n",
        "        print('argumen posisi {}'.format(a))\n",
        "    for key, value in kwargs.items():\n",
        "        print('argumen kata kunci {}:{}'.format(key, value))\n",
        " \n",
        " \n",
        "# Panggil printinfo\n",
        "printinfo()\n",
        "printinfo(1, 2, 3)\n",
        "printinfo(i=7, j=8, k=9)\n",
        "printinfo(1, 2, j=8, k=9)\n",
        "printinfo(*(2, 3), **{'i':7, 'j':8})"
      ],
      "metadata": {
        "id": "3P7tAMl5ay65",
        "outputId": "73f2d712-cbfd-4043-b4d1-48212a91c8e2",
        "colab": {
          "base_uri": "https://localhost:8080/"
        }
      },
      "execution_count": 1,
      "outputs": [
        {
          "output_type": "stream",
          "name": "stdout",
          "text": [
            "argumen posisi 1\n",
            "argumen posisi 2\n",
            "argumen posisi 3\n",
            "argumen kata kunci i:7\n",
            "argumen kata kunci j:8\n",
            "argumen kata kunci k:9\n",
            "argumen posisi 1\n",
            "argumen posisi 2\n",
            "argumen kata kunci j:8\n",
            "argumen kata kunci k:9\n",
            "argumen posisi 2\n",
            "argumen posisi 3\n",
            "argumen kata kunci i:7\n",
            "argumen kata kunci j:8\n"
          ]
        }
      ]
    },
    {
      "cell_type": "code",
      "source": [
        "import sys\n",
        "print(sys.path)\n",
        "def penjumlahan(a, b):\n",
        "    a+b\n",
        " \n",
        "hasil = penjumlahan(10, 10)\n",
        "print(hasil)\n",
        "def cetak(param):\n",
        "    print(param)\n",
        "    return\n",
        " \n",
        "cetak(\"Dicoding Indonesia\")"
      ],
      "metadata": {
        "id": "2PxcXbi_kDbk",
        "outputId": "5bf46750-ddaa-4c5f-f014-9a329460eaf2",
        "colab": {
          "base_uri": "https://localhost:8080/"
        }
      },
      "execution_count": 6,
      "outputs": [
        {
          "output_type": "stream",
          "name": "stdout",
          "text": [
            "['', '/content', '/env/python', '/usr/lib/python37.zip', '/usr/lib/python3.7', '/usr/lib/python3.7/lib-dynload', '/usr/local/lib/python3.7/dist-packages', '/usr/lib/python3/dist-packages', '/usr/local/lib/python3.7/dist-packages/IPython/extensions', '/root/.ipython']\n",
            "None\n",
            "Dicoding Indonesia\n"
          ]
        }
      ]
    },
    {
      "cell_type": "code",
      "source": [
        "class Kalkulator:\n",
        "    \"\"\"contoh kelas kalkulator sederhana\"\"\"\n",
        " \n",
        "    def __init__(self):\n",
        "        self.i = 12345\n",
        " \n",
        "    def f(self):\n",
        "        return 'hello world'\n",
        "print(Kalkulator.f(1234))"
      ],
      "metadata": {
        "id": "WiAfdR9Lp_vb",
        "outputId": "1b0c6dc1-4acb-4e70-e9cd-b5465686109b",
        "colab": {
          "base_uri": "https://localhost:8080/"
        }
      },
      "execution_count": 12,
      "outputs": [
        {
          "output_type": "stream",
          "name": "stdout",
          "text": [
            "hello world\n"
          ]
        }
      ]
    },
    {
      "cell_type": "code",
      "source": [
        "d = \"Halo Dicoding!\"\n",
        "d[5:13]\n",
        "x = [10,15,20,25,30]\n",
        "print(x[-3:])\n",
        "\n",
        "a, b = 10, 11\n",
        "a, b\n",
        "print('%x and %X' % (a, b))"
      ],
      "metadata": {
        "id": "kAbRxHN5WBns",
        "outputId": "a0405dd4-5de3-452b-8438-39063fba5094",
        "colab": {
          "base_uri": "https://localhost:8080/"
        }
      },
      "execution_count": 5,
      "outputs": [
        {
          "output_type": "stream",
          "name": "stdout",
          "text": [
            "[20, 25, 30]\n",
            "a and B\n"
          ]
        }
      ]
    }
  ]
}