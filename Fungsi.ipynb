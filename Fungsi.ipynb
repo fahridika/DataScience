{
  "nbformat": 4,
  "nbformat_minor": 0,
  "metadata": {
    "colab": {
      "name": "Fungsi.ipynb",
      "provenance": [],
      "authorship_tag": "ABX9TyNTSRGqRcWaxIwr4YS0VbkY",
      "include_colab_link": true
    },
    "kernelspec": {
      "name": "python3",
      "display_name": "Python 3"
    },
    "language_info": {
      "name": "python"
    }
  },
  "cells": [
    {
      "cell_type": "markdown",
      "metadata": {
        "id": "view-in-github",
        "colab_type": "text"
      },
      "source": [
        "<a href=\"https://colab.research.google.com/github/fahridika/DataScience/blob/python/Fungsi.ipynb\" target=\"_parent\"><img src=\"https://colab.research.google.com/assets/colab-badge.svg\" alt=\"Open In Colab\"/></a>"
      ]
    },
    {
      "cell_type": "markdown",
      "source": [
        "# Fungsi\n",
        "Fungsi adalah proses yang merelasikan antara sebuah masukan (input) dan keluaran (output). Pada Python, selain fungsi relasi tersebut, fungsi juga adalah salah satu cara untuk mengorganisasikan kode - dengan tujuan akhir kode dapat digunakan kembali (reusability).\n",
        "\n",
        "***syarat umum fungsi*** adalah modularisasi dan fungsionalitasnya."
      ],
      "metadata": {
        "id": "gyWgTaCYWYMj"
      }
    },
    {
      "cell_type": "code",
      "execution_count": null,
      "metadata": {
        "id": "g7yqZBhMWXaW"
      },
      "outputs": [],
      "source": [
        ""
      ]
    }
  ]
}