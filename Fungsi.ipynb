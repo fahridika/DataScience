{
  "nbformat": 4,
  "nbformat_minor": 0,
  "metadata": {
    "colab": {
      "name": "Fungsi.ipynb",
      "provenance": [],
      "authorship_tag": "ABX9TyN7WHyrwtDoJJ/tDUj21Tgf",
      "include_colab_link": true
    },
    "kernelspec": {
      "name": "python3",
      "display_name": "Python 3"
    },
    "language_info": {
      "name": "python"
    }
  },
  "cells": [
    {
      "cell_type": "markdown",
      "metadata": {
        "id": "view-in-github",
        "colab_type": "text"
      },
      "source": [
        "<a href=\"https://colab.research.google.com/github/fahridika/DataScience/blob/python/Fungsi.ipynb\" target=\"_parent\"><img src=\"https://colab.research.google.com/assets/colab-badge.svg\" alt=\"Open In Colab\"/></a>"
      ]
    },
    {
      "cell_type": "markdown",
      "source": [
        "# Fungsi\n",
        "Fungsi adalah proses yang merelasikan antara sebuah masukan (input) dan keluaran (output). Pada Python, selain fungsi relasi tersebut, fungsi juga adalah salah satu cara untuk mengorganisasikan kode - dengan tujuan akhir kode dapat digunakan kembali (reusability).\n",
        "\n",
        "***syarat umum fungsi*** adalah modularisasi dan fungsionalitasnya."
      ],
      "metadata": {
        "id": "gyWgTaCYWYMj"
      }
    },
    {
      "cell_type": "code",
      "execution_count": null,
      "metadata": {
        "id": "g7yqZBhMWXaW"
      },
      "outputs": [],
      "source": [
        "#Mendefinisikan fungsi\n",
        "def nama_fungsi( parameter )"
      ]
    },
    {
      "cell_type": "markdown",
      "source": [
        "# Return\n",
        "Pernyataan return [expression] akan membuat eksekusi program keluar dari fungsi saat itu, sekaligus mengembalikan nilai tertentu.\n",
        "\n",
        "return None"
      ],
      "metadata": {
        "id": "ZVmaddmMXry9"
      }
    },
    {
      "cell_type": "code",
      "source": [
        "def kali(angka1, angka2):\n",
        "    # Kalikan kedua parameter\n",
        "    hasil = angka1 * angka2\n",
        "    print('Dicetak dari dalam fungsi: {}'.format(hasil))\n",
        "    return hasil\n",
        "kali(10,10)"
      ],
      "metadata": {
        "colab": {
          "base_uri": "https://localhost:8080/"
        },
        "id": "opxqL_5RX2a8",
        "outputId": "691a3331-61c4-40ce-b6ac-ffea0d19fbbe"
      },
      "execution_count": 2,
      "outputs": [
        {
          "output_type": "stream",
          "name": "stdout",
          "text": [
            "Dicetak dari dalam fungsi: 100\n"
          ]
        },
        {
          "output_type": "execute_result",
          "data": {
            "text/plain": [
              "100"
            ]
          },
          "metadata": {},
          "execution_count": 2
        }
      ]
    }
  ]
}