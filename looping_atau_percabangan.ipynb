{
  "nbformat": 4,
  "nbformat_minor": 0,
  "metadata": {
    "colab": {
      "name": "looping atau perca.ipynb",
      "provenance": [],
      "authorship_tag": "ABX9TyPAvgdhsLoR2Ejw/2WtTt8H",
      "include_colab_link": true
    },
    "kernelspec": {
      "name": "python3",
      "display_name": "Python 3"
    },
    "language_info": {
      "name": "python"
    }
  },
  "cells": [
    {
      "cell_type": "markdown",
      "metadata": {
        "id": "view-in-github",
        "colab_type": "text"
      },
      "source": [
        "<a href=\"https://colab.research.google.com/github/fahridika/DataScience/blob/python/looping_atau_percabangan.ipynb\" target=\"_parent\"><img src=\"https://colab.research.google.com/assets/colab-badge.svg\" alt=\"Open In Colab\"/></a>"
      ]
    },
    {
      "cell_type": "code",
      "execution_count": 1,
      "metadata": {
        "colab": {
          "base_uri": "https://localhost:8080/"
        },
        "id": "hNcbJUNPfD3_",
        "outputId": "c60870ff-5df2-497d-b158-3ebc08799191"
      },
      "outputs": [
        {
          "output_type": "stream",
          "name": "stdout",
          "text": [
            "Masukkan tinggi badan Anda : 180\n",
            "Silakan, Anda boleh masuk\n"
          ]
        }
      ],
      "source": [
        "#aturan penulisan Percabangan\n",
        "tinggi_badan = int(input(\"Masukkan tinggi badan Anda : \"))\n",
        "if tinggi_badan>=160:\n",
        "   print (\"Silakan, Anda boleh masuk\")\n",
        "else:\n",
        "   print (\"Maaf, Anda belum boleh masuk\")"
      ]
    },
    {
      "cell_type": "markdown",
      "source": [
        "Else if atu elif\n"
      ],
      "metadata": {
        "id": "Kj43aOx2g6AH"
      }
    },
    {
      "cell_type": "code",
      "source": [
        "nilai = int(input(\"Masukkan nilai tugas Anda : \"))\n",
        "if nilai>80:\n",
        "   print(\"Selamat! Anda mendapat nilai A\")\n",
        "   print(\"Pertahankan!\")\n",
        "elif nilai>70:\n",
        "   print(\"Hore! Anda mendapat nilai B\")\n",
        "   print(\"Tingkatkan!\")\n",
        "elif nilai>60:\n",
        "   print(\"Hmm.. Anda mendapat nilai C\")\n",
        "   print(\"Ayo semangat!\")\n",
        "else:\n",
        "   print(\"Waduh, Anda mendapat nilai D\")\n",
        "   print(\"Yuk belajar lebih giat lagi!\")\n",
        "   "
      ],
      "metadata": {
        "colab": {
          "base_uri": "https://localhost:8080/"
        },
        "id": "pOirj4Q8g5dy",
        "outputId": "460a5497-8d4f-460f-f132-aba992641218"
      },
      "execution_count": 2,
      "outputs": [
        {
          "output_type": "stream",
          "name": "stdout",
          "text": [
            "Masukkan nilai tugas Anda : 80\n",
            "Hore! Anda mendapat nilai B\n",
            "Tingkatkan!\n"
          ]
        }
      ]
    }
  ]
}