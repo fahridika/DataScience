{
  "nbformat": 4,
  "nbformat_minor": 0,
  "metadata": {
    "colab": {
      "name": "looping atau percabangan.ipynb",
      "provenance": [],
      "collapsed_sections": [],
      "authorship_tag": "ABX9TyOo9n4FBt+XQRKovbL9risf",
      "include_colab_link": true
    },
    "kernelspec": {
      "name": "python3",
      "display_name": "Python 3"
    },
    "language_info": {
      "name": "python"
    }
  },
  "cells": [
    {
      "cell_type": "markdown",
      "metadata": {
        "id": "view-in-github",
        "colab_type": "text"
      },
      "source": [
        "<a href=\"https://colab.research.google.com/github/fahridika/DataScience/blob/python/looping_atau_percabangan.ipynb\" target=\"_parent\"><img src=\"https://colab.research.google.com/assets/colab-badge.svg\" alt=\"Open In Colab\"/></a>"
      ]
    },
    {
      "cell_type": "markdown",
      "source": [
        "# Percabangan\n",
        "if\n",
        "Else if atu elif\n",
        "\n",
        "\n",
        "\n"
      ],
      "metadata": {
        "id": "Kj43aOx2g6AH"
      }
    },
    {
      "cell_type": "code",
      "execution_count": 1,
      "metadata": {
        "colab": {
          "base_uri": "https://localhost:8080/"
        },
        "id": "hNcbJUNPfD3_",
        "outputId": "c60870ff-5df2-497d-b158-3ebc08799191"
      },
      "outputs": [
        {
          "output_type": "stream",
          "name": "stdout",
          "text": [
            "Masukkan tinggi badan Anda : 180\n",
            "Silakan, Anda boleh masuk\n"
          ]
        }
      ],
      "source": [
        "#aturan penulisan Percabangan\n",
        "tinggi_badan = int(input(\"Masukkan tinggi badan Anda : \"))\n",
        "if tinggi_badan>=160:\n",
        "   print (\"Silakan, Anda boleh masuk\")\n",
        "else:\n",
        "   print (\"Maaf, Anda belum boleh masuk\")"
      ]
    },
    {
      "cell_type": "code",
      "source": [
        "nilai = int(input(\"Masukkan nilai tugas Anda : \"))\n",
        "if nilai>80:\n",
        "   print(\"Selamat! Anda mendapat nilai A\")\n",
        "   print(\"Pertahankan!\")\n",
        "elif nilai>70:\n",
        "   print(\"Hore! Anda mendapat nilai B\")\n",
        "   print(\"Tingkatkan!\")\n",
        "elif nilai>60:\n",
        "   print(\"Hmm.. Anda mendapat nilai C\")\n",
        "   print(\"Ayo semangat!\")\n",
        "else:\n",
        "   print(\"Waduh, Anda mendapat nilai D\")\n",
        "   print(\"Yuk belajar lebih giat lagi!\")\n",
        "   "
      ],
      "metadata": {
        "colab": {
          "base_uri": "https://localhost:8080/"
        },
        "id": "pOirj4Q8g5dy",
        "outputId": "460a5497-8d4f-460f-f132-aba992641218"
      },
      "execution_count": 2,
      "outputs": [
        {
          "output_type": "stream",
          "name": "stdout",
          "text": [
            "Masukkan nilai tugas Anda : 80\n",
            "Hore! Anda mendapat nilai B\n",
            "Tingkatkan!\n"
          ]
        }
      ]
    },
    {
      "cell_type": "markdown",
      "source": [
        "**Ternary Operators**\n",
        "*Operator menentukan sesuatu berdasarkan kondisi True atau False.*\n",
        "\n",
        "\n",
        "```\n",
        "# Ini diformat sebagai kode\n",
        "if (condition):\n",
        "condition_if_true\n",
        "else:\n",
        "condition_if_false\n",
        "```\n",
        "**Contoh**\n",
        "\n",
        "\n",
        "```\n",
        "# Ini diformat sebagai kode\n",
        "lulus = True\n",
        "if (lulus):\n",
        "kata = ”selamat”\n",
        "else:\n",
        "kata = “perbaiki”\n",
        "```\n",
        "\n",
        "\n"
      ],
      "metadata": {
        "id": "CJ32QwepiepB"
      }
    },
    {
      "cell_type": "markdown",
      "source": [
        "ShortHand Tennary\n",
        "membantu Anda untuk memeriksa kode/hasil dari sebuah fungsi dan memastikan outputnya tidak menyebabkan error (atau minimal memberikan informasi relevan saat error)"
      ],
      "metadata": {
        "id": "XlWx_vSqjqfo"
      }
    },
    {
      "cell_type": "markdown",
      "source": [
        "# **Perulangan**\n",
        "***For***\n",
        "Bedanya di Python, For tidak hanya untuk perulangan dengan jumlah finite (terbatas), melainkan lebih ke fungsi yang dapat melakukan perulangan pada setiap jenis variabel berupa kumpulan atau urutan. Variabel yang dimaksud bisa berupa list, string, ataupun range. \n",
        "Anda juga dapat melakukan perulangan berdasarkan indeks atau range dengan memanfaatkan fungsi len():\n",
        "\n"
      ],
      "metadata": {
        "id": "gwVR1sH3k9uC"
      }
    },
    {
      "cell_type": "code",
      "source": [
        "for huruf in 'Dicoding':  # Contoh pertama\n",
        "    print('Huruf: {}'.format(huruf))\n",
        " \n",
        "flowers = ['mawar', 'melati', 'anggrek']\n",
        "for flower in flowers:  # Contoh kedua\n",
        "    print('Flower: {}'.format(flower))\n",
        "\n",
        "#perulangan memanfaatkan huruf len\n",
        "flowers = ['mawar', 'melati', 'anggrek']\n",
        "for index in range(len(flowers)):\n",
        "    print('Flowers: {}'.format(flowers[index]))"
      ],
      "metadata": {
        "colab": {
          "base_uri": "https://localhost:8080/"
        },
        "id": "MXfvz03tl9NJ",
        "outputId": "5859f690-0da8-4d1d-f188-89507fbc7c12"
      },
      "execution_count": 4,
      "outputs": [
        {
          "output_type": "stream",
          "name": "stdout",
          "text": [
            "Huruf: D\n",
            "Huruf: i\n",
            "Huruf: c\n",
            "Huruf: o\n",
            "Huruf: d\n",
            "Huruf: i\n",
            "Huruf: n\n",
            "Huruf: g\n",
            "Flower: mawar\n",
            "Flower: melati\n",
            "Flower: anggrek\n",
            "Flowers: mawar\n",
            "Flowers: melati\n",
            "Flowers: anggrek\n"
          ]
        }
      ]
    },
    {
      "cell_type": "markdown",
      "source": [
        "**While** pada bahasa Python digunakan untuk mengeksekusi statement selama kondisi yang diberikan terpenuhi (True). Kondisi dapat berupa expression apapun, dan harap diingat bahwa True di Python termasuk semua nilai non-zero."
      ],
      "metadata": {
        "id": "bRvQor2em0Nn"
      }
    },
    {
      "cell_type": "code",
      "source": [
        "count = 0\n",
        "while (count < 7):\n",
        "    print('Hitungannya adalah: {}'.format(count))\n",
        "    count = count + 1"
      ],
      "metadata": {
        "colab": {
          "base_uri": "https://localhost:8080/"
        },
        "id": "eks5P9JynMr4",
        "outputId": "6f927f4a-1506-4d59-a960-c283d3c074f0"
      },
      "execution_count": 5,
      "outputs": [
        {
          "output_type": "stream",
          "name": "stdout",
          "text": [
            "Hitungannya adalah: 0\n",
            "Hitungannya adalah: 1\n",
            "Hitungannya adalah: 2\n",
            "Hitungannya adalah: 3\n",
            "Hitungannya adalah: 4\n",
            "Hitungannya adalah: 5\n",
            "Hitungannya adalah: 6\n"
          ]
        }
      ]
    },
    {
      "cell_type": "code",
      "source": [
        "#perulangan bertingkat\n",
        "for i in range(0, 6):\n",
        "  for j in range(0, 0 + i):\n",
        "    print('*', end='')\n",
        "  print()\n",
        "\n",
        "for i in range(0, 6):\n",
        "    for j in range(0, 6 - i):\n",
        "        print('*', end='')\n",
        "    print()"
      ],
      "metadata": {
        "colab": {
          "base_uri": "https://localhost:8080/"
        },
        "id": "iq1djhmCnt_O",
        "outputId": "9f6fea9b-d382-4f0b-ee21-c79cfee5c100"
      },
      "execution_count": 13,
      "outputs": [
        {
          "output_type": "stream",
          "name": "stdout",
          "text": [
            "\n",
            "*\n",
            "**\n",
            "***\n",
            "****\n",
            "*****\n",
            "******\n",
            "*****\n",
            "****\n",
            "***\n",
            "**\n",
            "*\n"
          ]
        }
      ]
    },
    {
      "cell_type": "markdown",
      "source": [
        "Kontrol Perulangan\n",
        "\n",
        "\n",
        "Break\n",
        "Pernyataan break menghentikan perulangan kemudian keluar, dilanjutkan dengan mengeksekusi pernyataan (statement) setelah blok perulangan. Salah satu penggunaannya yang paling sering adalah sebuah kondisi eksternal yang membutuhkan program untuk keluar dari perulangan. "
      ],
      "metadata": {
        "id": "x_F5iOcPpbxo"
      }
    },
    {
      "cell_type": "code",
      "source": [
        "for huruf in 'Dico ding':\n",
        "    if huruf == ' ':\n",
        "        break\n",
        "    print('Huruf saat ini: {}'.format(huruf))"
      ],
      "metadata": {
        "colab": {
          "base_uri": "https://localhost:8080/"
        },
        "id": "IgCmC-b2poKF",
        "outputId": "67b824d8-c603-45e0-ee47-2109aaffa203"
      },
      "execution_count": 14,
      "outputs": [
        {
          "output_type": "stream",
          "name": "stdout",
          "text": [
            "Huruf saat ini: D\n",
            "Huruf saat ini: i\n",
            "Huruf saat ini: c\n",
            "Huruf saat ini: o\n"
          ]
        }
      ]
    }
  ]
}