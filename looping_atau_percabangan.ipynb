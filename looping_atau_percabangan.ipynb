{
  "nbformat": 4,
  "nbformat_minor": 0,
  "metadata": {
    "colab": {
      "name": "looping atau perca.ipynb",
      "provenance": [],
      "collapsed_sections": [],
      "authorship_tag": "ABX9TyO0JNjAiC+8jtdYICgmy5RS",
      "include_colab_link": true
    },
    "kernelspec": {
      "name": "python3",
      "display_name": "Python 3"
    },
    "language_info": {
      "name": "python"
    }
  },
  "cells": [
    {
      "cell_type": "markdown",
      "metadata": {
        "id": "view-in-github",
        "colab_type": "text"
      },
      "source": [
        "<a href=\"https://colab.research.google.com/github/fahridika/DataScience/blob/python/looping_atau_percabangan.ipynb\" target=\"_parent\"><img src=\"https://colab.research.google.com/assets/colab-badge.svg\" alt=\"Open In Colab\"/></a>"
      ]
    },
    {
      "cell_type": "markdown",
      "source": [
        "# Percabangan\n",
        "if\n",
        "Else if atu elif\n",
        "\n",
        "\n",
        "\n"
      ],
      "metadata": {
        "id": "Kj43aOx2g6AH"
      }
    },
    {
      "cell_type": "code",
      "execution_count": 1,
      "metadata": {
        "colab": {
          "base_uri": "https://localhost:8080/"
        },
        "id": "hNcbJUNPfD3_",
        "outputId": "c60870ff-5df2-497d-b158-3ebc08799191"
      },
      "outputs": [
        {
          "output_type": "stream",
          "name": "stdout",
          "text": [
            "Masukkan tinggi badan Anda : 180\n",
            "Silakan, Anda boleh masuk\n"
          ]
        }
      ],
      "source": [
        "#aturan penulisan Percabangan\n",
        "tinggi_badan = int(input(\"Masukkan tinggi badan Anda : \"))\n",
        "if tinggi_badan>=160:\n",
        "   print (\"Silakan, Anda boleh masuk\")\n",
        "else:\n",
        "   print (\"Maaf, Anda belum boleh masuk\")"
      ]
    },
    {
      "cell_type": "code",
      "source": [
        "nilai = int(input(\"Masukkan nilai tugas Anda : \"))\n",
        "if nilai>80:\n",
        "   print(\"Selamat! Anda mendapat nilai A\")\n",
        "   print(\"Pertahankan!\")\n",
        "elif nilai>70:\n",
        "   print(\"Hore! Anda mendapat nilai B\")\n",
        "   print(\"Tingkatkan!\")\n",
        "elif nilai>60:\n",
        "   print(\"Hmm.. Anda mendapat nilai C\")\n",
        "   print(\"Ayo semangat!\")\n",
        "else:\n",
        "   print(\"Waduh, Anda mendapat nilai D\")\n",
        "   print(\"Yuk belajar lebih giat lagi!\")\n",
        "   "
      ],
      "metadata": {
        "colab": {
          "base_uri": "https://localhost:8080/"
        },
        "id": "pOirj4Q8g5dy",
        "outputId": "460a5497-8d4f-460f-f132-aba992641218"
      },
      "execution_count": 2,
      "outputs": [
        {
          "output_type": "stream",
          "name": "stdout",
          "text": [
            "Masukkan nilai tugas Anda : 80\n",
            "Hore! Anda mendapat nilai B\n",
            "Tingkatkan!\n"
          ]
        }
      ]
    },
    {
      "cell_type": "markdown",
      "source": [
        "**Ternary Operators**\n",
        "*Operator menentukan sesuatu berdasarkan kondisi True atau False.*\n",
        "\n",
        "\n",
        "```\n",
        "# Ini diformat sebagai kode\n",
        "if (condition):\n",
        "condition_if_true\n",
        "else:\n",
        "condition_if_false\n",
        "```\n",
        "**Contoh**\n",
        "\n",
        "\n",
        "```\n",
        "# Ini diformat sebagai kode\n",
        "lulus = True\n",
        "if (lulus):\n",
        "kata = ”selamat”\n",
        "else:\n",
        "kata = “perbaiki”\n",
        "```\n",
        "\n",
        "\n"
      ],
      "metadata": {
        "id": "CJ32QwepiepB"
      }
    },
    {
      "cell_type": "markdown",
      "source": [
        "ShortHand Tennary\n",
        "membantu Anda untuk memeriksa kode/hasil dari sebuah fungsi dan memastikan outputnya tidak menyebabkan error (atau minimal memberikan informasi relevan saat error)"
      ],
      "metadata": {
        "id": "XlWx_vSqjqfo"
      }
    },
    {
      "cell_type": "markdown",
      "source": [
        "# **Perulangan**\n",
        "***For***\n",
        "Bedanya di Python, For tidak hanya untuk perulangan dengan jumlah finite (terbatas), melainkan lebih ke fungsi yang dapat melakukan perulangan pada setiap jenis variabel berupa kumpulan atau urutan. Variabel yang dimaksud bisa berupa list, string, ataupun range. \n",
        "Anda juga dapat melakukan perulangan berdasarkan indeks atau range dengan memanfaatkan fungsi len():\n",
        "\n"
      ],
      "metadata": {
        "id": "gwVR1sH3k9uC"
      }
    },
    {
      "cell_type": "code",
      "source": [
        "for huruf in 'Dicoding':  # Contoh pertama\n",
        "    print('Huruf: {}'.format(huruf))\n",
        " \n",
        "flowers = ['mawar', 'melati', 'anggrek']\n",
        "for flower in flowers:  # Contoh kedua\n",
        "    print('Flower: {}'.format(flower))\n",
        "\n",
        "#perulangan memanfaatkan huruf len\n",
        "flowers = ['mawar', 'melati', 'anggrek']\n",
        "for index in range(len(flowers)):\n",
        "    print('Flowers: {}'.format(flowers[index]))"
      ],
      "metadata": {
        "colab": {
          "base_uri": "https://localhost:8080/"
        },
        "id": "MXfvz03tl9NJ",
        "outputId": "5859f690-0da8-4d1d-f188-89507fbc7c12"
      },
      "execution_count": 4,
      "outputs": [
        {
          "output_type": "stream",
          "name": "stdout",
          "text": [
            "Huruf: D\n",
            "Huruf: i\n",
            "Huruf: c\n",
            "Huruf: o\n",
            "Huruf: d\n",
            "Huruf: i\n",
            "Huruf: n\n",
            "Huruf: g\n",
            "Flower: mawar\n",
            "Flower: melati\n",
            "Flower: anggrek\n",
            "Flowers: mawar\n",
            "Flowers: melati\n",
            "Flowers: anggrek\n"
          ]
        }
      ]
    }
  ]
}